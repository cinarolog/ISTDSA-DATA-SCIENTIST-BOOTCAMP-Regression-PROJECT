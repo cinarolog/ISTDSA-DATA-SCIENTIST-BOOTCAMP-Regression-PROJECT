{
 "cells": [
  {
   "cell_type": "code",
   "execution_count": 18,
   "metadata": {},
   "outputs": [],
   "source": [
    "import pandas as pd\n",
    "import numpy as np\n",
    "import matplotlib.pyplot as plt\n",
    "import seaborn as sns"
   ]
  },
  {
   "cell_type": "code",
   "execution_count": 19,
   "metadata": {},
   "outputs": [
    {
     "data": {
      "text/html": [
       "<div>\n",
       "<style scoped>\n",
       "    .dataframe tbody tr th:only-of-type {\n",
       "        vertical-align: middle;\n",
       "    }\n",
       "\n",
       "    .dataframe tbody tr th {\n",
       "        vertical-align: top;\n",
       "    }\n",
       "\n",
       "    .dataframe thead th {\n",
       "        text-align: right;\n",
       "    }\n",
       "</style>\n",
       "<table border=\"1\" class=\"dataframe\">\n",
       "  <thead>\n",
       "    <tr style=\"text-align: right;\">\n",
       "      <th></th>\n",
       "      <th>fiyat</th>\n",
       "      <th>ekran_boyutu</th>\n",
       "      <th>islemci_cekirdek_sayisi</th>\n",
       "      <th>islemci_hizi</th>\n",
       "      <th>disk_tipi</th>\n",
       "      <th>ram_tipi</th>\n",
       "      <th>gpu_model</th>\n",
       "      <th>parmak_izi_okuyucu</th>\n",
       "      <th>isletim_sistemi</th>\n",
       "      <th>ekran_cozunurluk</th>\n",
       "      <th>ram_miktari</th>\n",
       "      <th>gpu_miktari</th>\n",
       "      <th>disk_kapasitesi</th>\n",
       "      <th>hdmi</th>\n",
       "      <th>marka</th>\n",
       "    </tr>\n",
       "  </thead>\n",
       "  <tbody>\n",
       "    <tr>\n",
       "      <th>0</th>\n",
       "      <td>32499</td>\n",
       "      <td>17.3</td>\n",
       "      <td>14</td>\n",
       "      <td>3.5</td>\n",
       "      <td>SSD</td>\n",
       "      <td>DDR4</td>\n",
       "      <td>Paylasimsiz</td>\n",
       "      <td>Yok</td>\n",
       "      <td>Freedos</td>\n",
       "      <td>1920 x 1080</td>\n",
       "      <td>32</td>\n",
       "      <td>6</td>\n",
       "      <td>1024</td>\n",
       "      <td>Var</td>\n",
       "      <td>Monster</td>\n",
       "    </tr>\n",
       "    <tr>\n",
       "      <th>1</th>\n",
       "      <td>29498</td>\n",
       "      <td>16.1</td>\n",
       "      <td>14</td>\n",
       "      <td>3.5</td>\n",
       "      <td>SSD</td>\n",
       "      <td>DDR5</td>\n",
       "      <td>Paylasimsiz</td>\n",
       "      <td>Yok</td>\n",
       "      <td>Freedos</td>\n",
       "      <td>1920 x 1080</td>\n",
       "      <td>16</td>\n",
       "      <td>6</td>\n",
       "      <td>1024</td>\n",
       "      <td>Var</td>\n",
       "      <td>HP</td>\n",
       "    </tr>\n",
       "    <tr>\n",
       "      <th>2</th>\n",
       "      <td>25899</td>\n",
       "      <td>17.3</td>\n",
       "      <td>8</td>\n",
       "      <td>2.3</td>\n",
       "      <td>SSD</td>\n",
       "      <td>DDR4</td>\n",
       "      <td>Paylasimsiz</td>\n",
       "      <td>Yok</td>\n",
       "      <td>Freedos</td>\n",
       "      <td>1920 x 1080</td>\n",
       "      <td>16</td>\n",
       "      <td>6</td>\n",
       "      <td>500</td>\n",
       "      <td>Var</td>\n",
       "      <td>Monster</td>\n",
       "    </tr>\n",
       "    <tr>\n",
       "      <th>3</th>\n",
       "      <td>21219</td>\n",
       "      <td>16.1</td>\n",
       "      <td>12</td>\n",
       "      <td>3.3</td>\n",
       "      <td>SSD</td>\n",
       "      <td>DDR5</td>\n",
       "      <td>Paylasimsiz</td>\n",
       "      <td>Yok</td>\n",
       "      <td>Freedos</td>\n",
       "      <td>1920 x 1080</td>\n",
       "      <td>16</td>\n",
       "      <td>4</td>\n",
       "      <td>512</td>\n",
       "      <td>Var</td>\n",
       "      <td>HP</td>\n",
       "    </tr>\n",
       "    <tr>\n",
       "      <th>4</th>\n",
       "      <td>11999</td>\n",
       "      <td>15.6</td>\n",
       "      <td>4</td>\n",
       "      <td>2.4</td>\n",
       "      <td>SSD</td>\n",
       "      <td>DDR4</td>\n",
       "      <td>Paylasimsiz</td>\n",
       "      <td>Yok</td>\n",
       "      <td>Freedos</td>\n",
       "      <td>1920 x 1080</td>\n",
       "      <td>8</td>\n",
       "      <td>2</td>\n",
       "      <td>512</td>\n",
       "      <td>Var</td>\n",
       "      <td>Acer</td>\n",
       "    </tr>\n",
       "  </tbody>\n",
       "</table>\n",
       "</div>"
      ],
      "text/plain": [
       "   fiyat  ekran_boyutu  islemci_cekirdek_sayisi  islemci_hizi disk_tipi  \\\n",
       "0  32499          17.3                       14           3.5       SSD   \n",
       "1  29498          16.1                       14           3.5       SSD   \n",
       "2  25899          17.3                        8           2.3       SSD   \n",
       "3  21219          16.1                       12           3.3       SSD   \n",
       "4  11999          15.6                        4           2.4       SSD   \n",
       "\n",
       "  ram_tipi    gpu_model parmak_izi_okuyucu isletim_sistemi ekran_cozunurluk  \\\n",
       "0     DDR4  Paylasimsiz                Yok         Freedos      1920 x 1080   \n",
       "1     DDR5  Paylasimsiz                Yok         Freedos      1920 x 1080   \n",
       "2     DDR4  Paylasimsiz                Yok         Freedos      1920 x 1080   \n",
       "3     DDR5  Paylasimsiz                Yok         Freedos      1920 x 1080   \n",
       "4     DDR4  Paylasimsiz                Yok         Freedos      1920 x 1080   \n",
       "\n",
       "   ram_miktari  gpu_miktari  disk_kapasitesi hdmi    marka  \n",
       "0           32            6             1024  Var  Monster  \n",
       "1           16            6             1024  Var       HP  \n",
       "2           16            6              500  Var  Monster  \n",
       "3           16            4              512  Var       HP  \n",
       "4            8            2              512  Var     Acer  "
      ]
     },
     "execution_count": 19,
     "metadata": {},
     "output_type": "execute_result"
    }
   ],
   "source": [
    "data=pd.read_csv(\"data/for_app.csv\",sep=',', encoding='latin-1')\n",
    "df=data.copy()\n",
    "df.head()"
   ]
  },
  {
   "cell_type": "code",
   "execution_count": 20,
   "metadata": {},
   "outputs": [],
   "source": [
    "df.drop_duplicates(inplace=True)"
   ]
  },
  {
   "cell_type": "code",
   "execution_count": 21,
   "metadata": {},
   "outputs": [
    {
     "name": "stdout",
     "output_type": "stream",
     "text": [
      "<class 'pandas.core.frame.DataFrame'>\n",
      "Int64Index: 332 entries, 0 to 332\n",
      "Data columns (total 15 columns):\n",
      " #   Column                   Non-Null Count  Dtype  \n",
      "---  ------                   --------------  -----  \n",
      " 0   fiyat                    332 non-null    int64  \n",
      " 1   ekran_boyutu             332 non-null    float64\n",
      " 2   islemci_cekirdek_sayisi  332 non-null    int64  \n",
      " 3   islemci_hizi             332 non-null    float64\n",
      " 4   disk_tipi                332 non-null    object \n",
      " 5   ram_tipi                 332 non-null    object \n",
      " 6   gpu_model                332 non-null    object \n",
      " 7   parmak_izi_okuyucu       332 non-null    object \n",
      " 8   isletim_sistemi          332 non-null    object \n",
      " 9   ekran_cozunurluk         332 non-null    object \n",
      " 10  ram_miktari              332 non-null    int64  \n",
      " 11  gpu_miktari              332 non-null    int64  \n",
      " 12  disk_kapasitesi          332 non-null    int64  \n",
      " 13  hdmi                     332 non-null    object \n",
      " 14  marka                    332 non-null    object \n",
      "dtypes: float64(2), int64(5), object(8)\n",
      "memory usage: 41.5+ KB\n"
     ]
    }
   ],
   "source": [
    "df.info()"
   ]
  },
  {
   "cell_type": "code",
   "execution_count": 22,
   "metadata": {},
   "outputs": [
    {
     "data": {
      "text/plain": [
       "(332, 15)"
      ]
     },
     "execution_count": 22,
     "metadata": {},
     "output_type": "execute_result"
    }
   ],
   "source": [
    "df.shape"
   ]
  },
  {
   "cell_type": "code",
   "execution_count": 23,
   "metadata": {},
   "outputs": [
    {
     "data": {
      "text/plain": [
       "Index(['fiyat', 'ekran_boyutu', 'islemci_cekirdek_sayisi', 'islemci_hizi',\n",
       "       'disk_tipi', 'ram_tipi', 'gpu_model', 'parmak_izi_okuyucu',\n",
       "       'isletim_sistemi', 'ekran_cozunurluk', 'ram_miktari', 'gpu_miktari',\n",
       "       'disk_kapasitesi', 'hdmi', 'marka'],\n",
       "      dtype='object')"
      ]
     },
     "execution_count": 23,
     "metadata": {},
     "output_type": "execute_result"
    }
   ],
   "source": [
    "columns=df.columns\n",
    "columns"
   ]
  },
  {
   "cell_type": "code",
   "execution_count": 24,
   "metadata": {},
   "outputs": [
    {
     "data": {
      "text/plain": [
       "Index(['fiyat', 'ekran_boyutu', 'islemci_cekirdek_sayisi', 'islemci_hizi',\n",
       "       'disk_tipi', 'ram_tipi', 'gpu_model', 'parmak_izi_okuyucu',\n",
       "       'isletim_sistemi', 'ekran_cozunurluk', 'ram_miktari', 'gpu_miktari',\n",
       "       'disk_kapasitesi', 'hdmi', 'marka'],\n",
       "      dtype='object')"
      ]
     },
     "execution_count": 24,
     "metadata": {},
     "output_type": "execute_result"
    }
   ],
   "source": [
    "df.columns.str.strip()"
   ]
  },
  {
   "attachments": {},
   "cell_type": "markdown",
   "metadata": {},
   "source": [
    "## Numerical-categorical"
   ]
  },
  {
   "cell_type": "code",
   "execution_count": 25,
   "metadata": {},
   "outputs": [
    {
     "data": {
      "text/plain": [
       "(Index(['disk_tipi', 'ram_tipi', 'gpu_model', 'parmak_izi_okuyucu',\n",
       "        'isletim_sistemi', 'ekran_cozunurluk', 'hdmi', 'marka'],\n",
       "       dtype='object'),\n",
       " Index(['fiyat', 'ekran_boyutu', 'islemci_cekirdek_sayisi', 'islemci_hizi',\n",
       "        'ram_miktari', 'gpu_miktari', 'disk_kapasitesi'],\n",
       "       dtype='object'))"
      ]
     },
     "execution_count": 25,
     "metadata": {},
     "output_type": "execute_result"
    }
   ],
   "source": [
    "catvars = df.select_dtypes(include=['object']).columns\n",
    "numvars = df.select_dtypes(include = ['int32','int64','float32','float64']).columns\n",
    "\n",
    "catvars,numvars"
   ]
  },
  {
   "cell_type": "code",
   "execution_count": 26,
   "metadata": {},
   "outputs": [
    {
     "name": "stdout",
     "output_type": "stream",
     "text": [
      "Details of the particular col fiyat is : [ 32499  29498  25899  21219  11999  18699  19549  24499  25526  31399\n",
      "  24949  11359  19999  23899  15899  18334  19779  15149  24699  20199\n",
      "  18799  31199  22449  27699  19009  20249  16299  17949  21399  20939\n",
      "  16895  18239  25999  18349  25698  11699  19289  23599  19974  18999\n",
      "  22099  16549  22749  28688  21229  12999  29299  13412  20399  24299\n",
      "  13669  30719  23279  32037  22999  20377  31699  19299  21669  16061\n",
      "  32630  20069  16114  20499  46599  19685  25958  18099  28670  12829\n",
      "  13299  22582  12399  17989  28899  25799  25399  17658  17189  19928\n",
      "  38334  20457  18399  18141  16829  40999  17755  13881  13699  18749\n",
      "  16599  68699  20405  23489  16850  21711  22699  27687  72374  22639\n",
      "  18720  40855  18185  27437  18570  21999  22104  26953  18191  17299\n",
      "  18380  34128  16736  15999  16307  19774  20999  24993  40418  22194\n",
      "   9953  17890  25997  26016  23641  25262  19007  19847  21393  18140\n",
      "  13673  20264  37538  17997  18850  33133  21615  24992  20776  19321\n",
      "  27034  22242  22172  14290  23521  17948  17489  13557  13786  14199\n",
      "  17800  11455  18816  18200  24991  17639  24234  26926  31500  17080\n",
      "  20669  26100  27973  43499  25684  22098  37849  24535  24790  23479\n",
      "  33220  16401  55940  26515  41704  63149  25797  47276  28784  19126\n",
      "  27941  42074  54558  47146  41195  42163  22657  13779  16746  22572\n",
      "  26394  18547  19466  17317  34926  31236  44253  28042  44084  27148\n",
      "  30605  50802  27505  56758  51064  28701  20570  18193  18689  22062\n",
      "  19874  25101  22826  19243  27320  20532  22387  22611 101131  21348\n",
      "  39226 104913  17206  44380  25120  25148  24269  42546  42424  23586\n",
      "  40599  54015  24984  25052  40835  24302  27999  82217  38357  43746\n",
      "  25928  30260  20087  24910  20369  27167  22238  21932  16051  43593\n",
      "  19004  28300  18665  23213  40849  19998  24111  28621  43552  33717\n",
      "  34401  20447  23240  50924  25983  15699  50280  17847  21934  18962\n",
      "  32468  40490  27285  27834  43222  25375  57019  41211  21619  17167\n",
      "  63275  39005  22321  45461  25639  20961  40966  19962  62772  14499\n",
      "  22230  31603  27141  23497  47799  49627  66038  22640  38753  21055\n",
      "  26140  19540  12833  33590  43713  20061  17417  17956  19940  17838\n",
      "  42170  26647]\n",
      "---------------------------------------------------------------------------\n",
      "Details of the particular col ekran_boyutu is : [17.3 16.1 15.6 14.  13.3 16.  17. ]\n",
      "---------------------------------------------------------------------------\n",
      "Details of the particular col islemci_cekirdek_sayisi is : [14  8 12  4  6 10  2]\n",
      "---------------------------------------------------------------------------\n",
      "Details of the particular col islemci_hizi is : [3.5 2.3 3.3 2.4 2.6 2.7 3.2 1.  2.5 2.9 2.8 1.6 3.  1.2 2.2 2.1 3.8 1.3\n",
      " 3.4 3.7 3.6 1.1]\n",
      "---------------------------------------------------------------------------\n",
      "Details of the particular col disk_tipi is : ['SSD' 'HDD-SSD' 'HDD']\n",
      "---------------------------------------------------------------------------\n",
      "Details of the particular col ram_tipi is : ['DDR4' 'DDR5' 'other_ram']\n",
      "---------------------------------------------------------------------------\n",
      "Details of the particular col gpu_model is : ['Paylasimsiz' 'Paylasimli']\n",
      "---------------------------------------------------------------------------\n",
      "Details of the particular col parmak_izi_okuyucu is : ['Yok' 'Var']\n",
      "---------------------------------------------------------------------------\n",
      "Details of the particular col isletim_sistemi is : ['Freedos' 'Linux' 'Windows']\n",
      "---------------------------------------------------------------------------\n",
      "Details of the particular col ekran_cozunurluk is : ['1920 x 1080' '2560 x 1440' '1920 x 1200' '1366 x 768']\n",
      "---------------------------------------------------------------------------\n",
      "Details of the particular col ram_miktari is : [ 32  16   8  64  12   4  40  20  36  24  48 128]\n",
      "---------------------------------------------------------------------------\n",
      "Details of the particular col gpu_miktari is : [ 6  4  2  8 16  3]\n",
      "---------------------------------------------------------------------------\n",
      "Details of the particular col disk_kapasitesi is : [1024  500  512  256  250 1280 1536 2560 2048  128  240 3072 2304 1524\n",
      " 4096]\n",
      "---------------------------------------------------------------------------\n",
      "Details of the particular col hdmi is : ['Var' 'Yok']\n",
      "---------------------------------------------------------------------------\n",
      "Details of the particular col marka is : ['Monster' 'HP' 'Acer' 'Dell' 'Asus' 'Casper' 'Lenovo']\n",
      "---------------------------------------------------------------------------\n"
     ]
    }
   ],
   "source": [
    "def uniquevals(col):\n",
    "    print(f'Details of the particular col {col} is : {df[col].unique()}')\n",
    "    \n",
    "def valuecounts(col):\n",
    "    print(f'Valuecounts of the particular col {col} is : {df[col].value_counts()}')\n",
    "    \n",
    "    \n",
    "    \n",
    "    \n",
    "for col in df.columns:\n",
    "    uniquevals(col)\n",
    "    print(\"-\"*75)"
   ]
  },
  {
   "attachments": {},
   "cell_type": "markdown",
   "metadata": {},
   "source": [
    "##############################################################################"
   ]
  },
  {
   "attachments": {},
   "cell_type": "markdown",
   "metadata": {},
   "source": [
    "so on observation we can see that if we remove \"GB\" from RAM,i can \n",
    "make it as an integer value then after,now same goes with Memory as \n",
    "well as Weight,for Weight i can classify it as floating variable\n",
    "using the str.replace() as shown ↓\n",
    "'''\n",
    "\n",
    "df['Ram'] = df['Ram'].str.replace('GB','')\n",
    "df['Weight'] = df['Weight'].str.replace('kg','')\n",
    "\n",
    "converting from string->integer for ram column\n",
    "\n",
    "df['Ram'] = df['Ram'].astype('int32')\n",
    "\n",
    "converting from string-> float for the weight column\n",
    "\n",
    "df['Weight'] = df['Weight'].astype('float32')\n",
    "\n",
    "df.head()"
   ]
  },
  {
   "attachments": {},
   "cell_type": "markdown",
   "metadata": {},
   "source": [
    "# Exploratory Data Analysis"
   ]
  },
  {
   "cell_type": "code",
   "execution_count": 27,
   "metadata": {},
   "outputs": [
    {
     "name": "stderr",
     "output_type": "stream",
     "text": [
      "c:\\Users\\cinar\\anaconda3\\lib\\site-packages\\seaborn\\distributions.py:2619: FutureWarning: `distplot` is a deprecated function and will be removed in a future version. Please adapt your code to use either `displot` (a figure-level function with similar flexibility) or `histplot` (an axes-level function for histograms).\n",
      "  warnings.warn(msg, FutureWarning)\n"
     ]
    },
    {
     "data": {
      "text/plain": [
       "<AxesSubplot:xlabel='fiyat', ylabel='Density'>"
      ]
     },
     "execution_count": 27,
     "metadata": {},
     "output_type": "execute_result"
    },
    {
     "data": {
      "image/png": "[encoded data removed]",
      "text/plain": [
       "<Figure size 432x288 with 1 Axes>"
      ]
     },
     "metadata": {
      "needs_background": "light"
     },
     "output_type": "display_data"
    }
   ],
   "source": [
    "# viewing the distribution of the price column\n",
    "\n",
    "sns.distplot(df['fiyat'],color='red')"
   ]
  },
  {
   "cell_type": "code",
   "execution_count": 29,
   "metadata": {},
   "outputs": [
    {
     "name": "stderr",
     "output_type": "stream",
     "text": [
      "c:\\Users\\cinar\\anaconda3\\lib\\site-packages\\seaborn\\_decorators.py:36: FutureWarning: Pass the following variable as a keyword arg: x. From version 0.12, the only valid positional argument will be `data`, and passing other arguments without an explicit keyword will result in an error or misinterpretation.\n",
      "  warnings.warn(\n",
      "c:\\Users\\cinar\\anaconda3\\lib\\site-packages\\seaborn\\_decorators.py:36: FutureWarning: Pass the following variable as a keyword arg: x. From version 0.12, the only valid positional argument will be `data`, and passing other arguments without an explicit keyword will result in an error or misinterpretation.\n",
      "  warnings.warn(\n",
      "c:\\Users\\cinar\\anaconda3\\lib\\site-packages\\seaborn\\_decorators.py:36: FutureWarning: Pass the following variable as a keyword arg: x. From version 0.12, the only valid positional argument will be `data`, and passing other arguments without an explicit keyword will result in an error or misinterpretation.\n",
      "  warnings.warn(\n",
      "c:\\Users\\cinar\\anaconda3\\lib\\site-packages\\seaborn\\_decorators.py:36: FutureWarning: Pass the following variable as a keyword arg: x. From version 0.12, the only valid positional argument will be `data`, and passing other arguments without an explicit keyword will result in an error or misinterpretation.\n",
      "  warnings.warn(\n",
      "c:\\Users\\cinar\\anaconda3\\lib\\site-packages\\seaborn\\_decorators.py:36: FutureWarning: Pass the following variable as a keyword arg: x. From version 0.12, the only valid positional argument will be `data`, and passing other arguments without an explicit keyword will result in an error or misinterpretation.\n",
      "  warnings.warn(\n",
      "c:\\Users\\cinar\\anaconda3\\lib\\site-packages\\seaborn\\_decorators.py:36: FutureWarning: Pass the following variable as a keyword arg: x. From version 0.12, the only valid positional argument will be `data`, and passing other arguments without an explicit keyword will result in an error or misinterpretation.\n",
      "  warnings.warn(\n",
      "c:\\Users\\cinar\\anaconda3\\lib\\site-packages\\seaborn\\_decorators.py:36: FutureWarning: Pass the following variable as a keyword arg: x. From version 0.12, the only valid positional argument will be `data`, and passing other arguments without an explicit keyword will result in an error or misinterpretation.\n",
      "  warnings.warn(\n",
      "c:\\Users\\cinar\\anaconda3\\lib\\site-packages\\seaborn\\_decorators.py:36: FutureWarning: Pass the following variable as a keyword arg: x. From version 0.12, the only valid positional argument will be `data`, and passing other arguments without an explicit keyword will result in an error or misinterpretation.\n",
      "  warnings.warn(\n"
     ]
    },
    {
     "data": {
      "image/png": "[encoded data removed]",
      "text/plain": [
       "<Figure size 1080x504 with 1 Axes>"
      ]
     },
     "metadata": {
      "needs_background": "light"
     },
     "output_type": "display_data"
    },
    {
     "data": {
      "image/png": "[encoded data removed]",
      "text/plain": [
       "<Figure size 1080x504 with 1 Axes>"
      ]
     },
     "metadata": {
      "needs_background": "light"
     },
     "output_type": "display_data"
    },
    {
     "data": {
      "image/png": "[encoded data removed]",
      "text/plain": [
       "<Figure size 1080x504 with 1 Axes>"
      ]
     },
     "metadata": {
      "needs_background": "light"
     },
     "output_type": "display_data"
    },
    {
     "data": {
      "image/png": "[encoded data removed]",
      "text/plain": [
       "<Figure size 1080x504 with 1 Axes>"
      ]
     },
     "metadata": {
      "needs_background": "light"
     },
     "output_type": "display_data"
    },
    {
     "data": {
      "image/png": "[encoded data removed]",
      "text/plain": [
       "<Figure size 1080x504 with 1 Axes>"
      ]
     },
     "metadata": {
      "needs_background": "light"
     },
     "output_type": "display_data"
    },
    {
     "data": {
      "image/png": "[encoded data removed]",
      "text/plain": [
       "<Figure size 1080x504 with 1 Axes>"
      ]
     },
     "metadata": {
      "needs_background": "light"
     },
     "output_type": "display_data"
    },
    {
     "data": {
      "image/png": "[encoded data removed]",
      "text/plain": [
       "<Figure size 1080x504 with 1 Axes>"
      ]
     },
     "metadata": {
      "needs_background": "light"
     },
     "output_type": "display_data"
    },
    {
     "data": {
      "image/png": "[encoded data removed]",
      "text/plain": [
       "<Figure size 1080x504 with 1 Axes>"
      ]
     },
     "metadata": {
      "needs_background": "light"
     },
     "output_type": "display_data"
    }
   ],
   "source": [
    "## plotting countplots for the categorical variables\n",
    "\n",
    "def drawplot(col):\n",
    "    plt.figure(figsize=(15,7))\n",
    "    sns.countplot(df[col],palette='plasma')\n",
    "    plt.xticks(rotation='vertical')\n",
    "    \n",
    "toview = ['Company', 'TypeName','Ram','OpSys']\n",
    "for col in catvars:\n",
    "    drawplot(col)"
   ]
  },
  {
   "cell_type": "code",
   "execution_count": 30,
   "metadata": {},
   "outputs": [
    {
     "data": {
      "image/png": "[encoded data removed]",
      "text/plain": [
       "<Figure size 1080x504 with 1 Axes>"
      ]
     },
     "metadata": {
      "needs_background": "light"
     },
     "output_type": "display_data"
    }
   ],
   "source": [
    "# average price for each of the laptop brands\n",
    "# this will say us the insight that as per company the price of the laptop vary\n",
    "\n",
    "\n",
    "plt.figure(figsize=(15,7))\n",
    "sns.barplot(x = df['marka'],y = df['fiyat'])\n",
    "plt.xticks(rotation = 'vertical')\n",
    "plt.show()"
   ]
  },
  {
   "cell_type": "code",
   "execution_count": 31,
   "metadata": {},
   "outputs": [
    {
     "data": {
      "text/plain": [
       "<AxesSubplot:xlabel='ekran_boyutu', ylabel='fiyat'>"
      ]
     },
     "execution_count": 31,
     "metadata": {},
     "output_type": "execute_result"
    },
    {
     "data": {
      "image/png": "[encoded data removed]",
      "text/plain": [
       "<Figure size 432x288 with 1 Axes>"
      ]
     },
     "metadata": {
      "needs_background": "light"
     },
     "output_type": "display_data"
    }
   ],
   "source": [
    "# variation of inches towards the price\n",
    "\n",
    "sns.scatterplot(x = df['ekran_boyutu'],y = df['fiyat'])"
   ]
  },
  {
   "cell_type": "code",
   "execution_count": 32,
   "metadata": {},
   "outputs": [
    {
     "ename": "KeyError",
     "evalue": "'ScreenResolution'",
     "output_type": "error",
     "traceback": [
      "\u001b[1;31m---------------------------------------------------------------------------\u001b[0m",
      "\u001b[1;31mKeyError\u001b[0m                                  Traceback (most recent call last)",
      "File \u001b[1;32mc:\\Users\\cinar\\anaconda3\\lib\\site-packages\\pandas\\core\\indexes\\base.py:3621\u001b[0m, in \u001b[0;36mIndex.get_loc\u001b[1;34m(self, key, method, tolerance)\u001b[0m\n\u001b[0;32m   3620\u001b[0m \u001b[39mtry\u001b[39;00m:\n\u001b[1;32m-> 3621\u001b[0m     \u001b[39mreturn\u001b[39;00m \u001b[39mself\u001b[39;49m\u001b[39m.\u001b[39;49m_engine\u001b[39m.\u001b[39;49mget_loc(casted_key)\n\u001b[0;32m   3622\u001b[0m \u001b[39mexcept\u001b[39;00m \u001b[39mKeyError\u001b[39;00m \u001b[39mas\u001b[39;00m err:\n",
      "File \u001b[1;32mc:\\Users\\cinar\\anaconda3\\lib\\site-packages\\pandas\\_libs\\index.pyx:136\u001b[0m, in \u001b[0;36mpandas._libs.index.IndexEngine.get_loc\u001b[1;34m()\u001b[0m\n",
      "File \u001b[1;32mc:\\Users\\cinar\\anaconda3\\lib\\site-packages\\pandas\\_libs\\index.pyx:163\u001b[0m, in \u001b[0;36mpandas._libs.index.IndexEngine.get_loc\u001b[1;34m()\u001b[0m\n",
      "File \u001b[1;32mpandas\\_libs\\hashtable_class_helper.pxi:5198\u001b[0m, in \u001b[0;36mpandas._libs.hashtable.PyObjectHashTable.get_item\u001b[1;34m()\u001b[0m\n",
      "File \u001b[1;32mpandas\\_libs\\hashtable_class_helper.pxi:5206\u001b[0m, in \u001b[0;36mpandas._libs.hashtable.PyObjectHashTable.get_item\u001b[1;34m()\u001b[0m\n",
      "\u001b[1;31mKeyError\u001b[0m: 'ScreenResolution'",
      "\nThe above exception was the direct cause of the following exception:\n",
      "\u001b[1;31mKeyError\u001b[0m                                  Traceback (most recent call last)",
      "\u001b[1;32mc:\\Users\\cinar\\Desktop\\github repo\\A_ISTDSA BOOTCAMP\\Proje-2 Regression\\EDA_Laptop_Analysıs.ipynb Cell 18\u001b[0m in \u001b[0;36m<cell line: 3>\u001b[1;34m()\u001b[0m\n\u001b[0;32m      <a href='vscode-notebook-cell:/c%3A/Users/cinar/Desktop/github%20repo/A_ISTDSA%20BOOTCAMP/Proje-2%20Regression/EDA_Laptop_Analys%C4%B1s.ipynb#X23sZmlsZQ%3D%3D?line=0'>1</a>\u001b[0m \u001b[39m# creating a new col,touchscreen if the value is 1 that laptop is touch screen\u001b[39;00m\n\u001b[1;32m----> <a href='vscode-notebook-cell:/c%3A/Users/cinar/Desktop/github%20repo/A_ISTDSA%20BOOTCAMP/Proje-2%20Regression/EDA_Laptop_Analys%C4%B1s.ipynb#X23sZmlsZQ%3D%3D?line=2'>3</a>\u001b[0m df[\u001b[39m'\u001b[39m\u001b[39mTouchScreen\u001b[39m\u001b[39m'\u001b[39m] \u001b[39m=\u001b[39m df[\u001b[39m'\u001b[39;49m\u001b[39mScreenResolution\u001b[39;49m\u001b[39m'\u001b[39;49m]\u001b[39m.\u001b[39mapply(\u001b[39mlambda\u001b[39;00m element:\u001b[39m1\u001b[39m \n\u001b[0;32m      <a href='vscode-notebook-cell:/c%3A/Users/cinar/Desktop/github%20repo/A_ISTDSA%20BOOTCAMP/Proje-2%20Regression/EDA_Laptop_Analys%C4%B1s.ipynb#X23sZmlsZQ%3D%3D?line=3'>4</a>\u001b[0m                                                       \u001b[39mif\u001b[39;00m \u001b[39m'\u001b[39m\u001b[39mTouchscreen\u001b[39m\u001b[39m'\u001b[39m \u001b[39min\u001b[39;00m element \u001b[39melse\u001b[39;00m \u001b[39m0\u001b[39m)\n",
      "File \u001b[1;32mc:\\Users\\cinar\\anaconda3\\lib\\site-packages\\pandas\\core\\frame.py:3505\u001b[0m, in \u001b[0;36mDataFrame.__getitem__\u001b[1;34m(self, key)\u001b[0m\n\u001b[0;32m   3503\u001b[0m \u001b[39mif\u001b[39;00m \u001b[39mself\u001b[39m\u001b[39m.\u001b[39mcolumns\u001b[39m.\u001b[39mnlevels \u001b[39m>\u001b[39m \u001b[39m1\u001b[39m:\n\u001b[0;32m   3504\u001b[0m     \u001b[39mreturn\u001b[39;00m \u001b[39mself\u001b[39m\u001b[39m.\u001b[39m_getitem_multilevel(key)\n\u001b[1;32m-> 3505\u001b[0m indexer \u001b[39m=\u001b[39m \u001b[39mself\u001b[39;49m\u001b[39m.\u001b[39;49mcolumns\u001b[39m.\u001b[39;49mget_loc(key)\n\u001b[0;32m   3506\u001b[0m \u001b[39mif\u001b[39;00m is_integer(indexer):\n\u001b[0;32m   3507\u001b[0m     indexer \u001b[39m=\u001b[39m [indexer]\n",
      "File \u001b[1;32mc:\\Users\\cinar\\anaconda3\\lib\\site-packages\\pandas\\core\\indexes\\base.py:3623\u001b[0m, in \u001b[0;36mIndex.get_loc\u001b[1;34m(self, key, method, tolerance)\u001b[0m\n\u001b[0;32m   3621\u001b[0m     \u001b[39mreturn\u001b[39;00m \u001b[39mself\u001b[39m\u001b[39m.\u001b[39m_engine\u001b[39m.\u001b[39mget_loc(casted_key)\n\u001b[0;32m   3622\u001b[0m \u001b[39mexcept\u001b[39;00m \u001b[39mKeyError\u001b[39;00m \u001b[39mas\u001b[39;00m err:\n\u001b[1;32m-> 3623\u001b[0m     \u001b[39mraise\u001b[39;00m \u001b[39mKeyError\u001b[39;00m(key) \u001b[39mfrom\u001b[39;00m \u001b[39merr\u001b[39;00m\n\u001b[0;32m   3624\u001b[0m \u001b[39mexcept\u001b[39;00m \u001b[39mTypeError\u001b[39;00m:\n\u001b[0;32m   3625\u001b[0m     \u001b[39m# If we have a listlike key, _check_indexing_error will raise\u001b[39;00m\n\u001b[0;32m   3626\u001b[0m     \u001b[39m#  InvalidIndexError. Otherwise we fall through and re-raise\u001b[39;00m\n\u001b[0;32m   3627\u001b[0m     \u001b[39m#  the TypeError.\u001b[39;00m\n\u001b[0;32m   3628\u001b[0m     \u001b[39mself\u001b[39m\u001b[39m.\u001b[39m_check_indexing_error(key)\n",
      "\u001b[1;31mKeyError\u001b[0m: 'ScreenResolution'"
     ]
    }
   ],
   "source": [
    "# creating a new col,touchscreen if the value is 1 that laptop is touch screen\n",
    "\n",
    "df['TouchScreen'] = df['ScreenResolution'].apply(lambda element:1 \n",
    "                                                      if 'Touchscreen' in element else 0)"
   ]
  },
  {
   "cell_type": "code",
   "execution_count": null,
   "metadata": {},
   "outputs": [],
   "source": [
    "sns.countplot(df['parmak_izi_okuyucu'],palette='plasma')"
   ]
  },
  {
   "cell_type": "code",
   "execution_count": null,
   "metadata": {},
   "outputs": [],
   "source": [
    "sns.barplot(x = df['parmak_izi_okuyucu'],y = df['fiyat'])\n",
    "plt.xticks(rotation = 'vertical')"
   ]
  },
  {
   "attachments": {},
   "cell_type": "markdown",
   "metadata": {},
   "source": [
    "### Extracting the X Resolution and the Y Resolution\n",
    "\n",
    " we will split the text at the \"x\" letter and seperate the 2 parts\n",
    " from this we can observe that one of the col is Y res we need to do\n",
    " some feature engineering on the X res col\n",
    "\n",
    "splitdf = df['ekran_cozunurluk'].str.split('x',n = 1,expand=True)\n",
    "splitdf.head()\n",
    "\n",
    "splitdf = df['ekran_cozunurluk'].str.split('x',n = 1,expand=True)\n",
    "\n",
    "df['X_res'] = splitdf[0]\n",
    "df['Y_res'] = splitdf[1]\n",
    "\n",
    "'''\n",
    "So basically from that whole text of the X_res col,we need to \n",
    "extract the digits from it,but the problem is the numbers are scattered \n",
    "in some cases,that is the reason why i am using regex,if we use this\n",
    "we will exactly get the numbers which we are looking for!,\n",
    "so firstly replace all the \",\" with \"\" and then find all numbers\n",
    "from that string as \"\\d+\\.?\\d+\",\\d means that integer number and \\.? \n",
    "all the numbers which come after an number and \\d+ the string must end with number\n",
    "\n",
    "\n",
    "'''\n",
    "\n",
    "\n",
    "df['X_res'] = df['X_res'].str.replace(',','').str.findall(r'(\\d+\\.?\\d+)').apply(lambda x:x[0])\n",
    "\n",
    "df.head()\n",
    "\n",
    "**From the correlation plot we observed that as the X_res and Y_res is increasing,the price of the laptop is also increasing,so `X_res and Y_res` are positively correlated and they are giving much information,so that is the reason why i had splitted `Resolution` column into `X_res and Y_res` columns respectively**\n",
    "\n",
    "**So to make things good,we can create a new column named `PPI{pixels per inch}`,now  as we saw from the correlation plot that the `X_res and Y_res` are having much collinearity,so why not combine them with `Inches` which is having less collinearity,so we will combine them as follows ↓,so here is the formula of how to calculate `PPI` {pixels per inch}**\n",
    "\n",
    "$$\n",
    "    PPI(pixels per inch) = \\frac{\\sqrt{X_resolution^2+Y_resolution^2}}{inches}\n",
    "$$\n",
    "\n",
    "df['PPI'] = (((df['X_res']**2+df['Y_res']**2))**0.5/df['Inches']).astype('float')\n",
    "df.head()\n",
    "\n",
    "**So as we observe from the correlation data that the `PPI` is having good correlation,so we will be using that,as that is a combination of 3 features and that gives collective results of 3 columns,so we will drop `Inches,X_res,Y_res` as well**\n",
    "\n",
    "df.drop(columns=['ScreenResolution','Inches','X_res','Y_res'],inplace=True)\n",
    "df.head()\n"
   ]
  },
  {
   "cell_type": "code",
   "execution_count": 33,
   "metadata": {},
   "outputs": [
    {
     "name": "stderr",
     "output_type": "stream",
     "text": [
      "c:\\Users\\cinar\\anaconda3\\lib\\site-packages\\seaborn\\_decorators.py:36: FutureWarning: Pass the following variable as a keyword arg: x. From version 0.12, the only valid positional argument will be `data`, and passing other arguments without an explicit keyword will result in an error or misinterpretation.\n",
      "  warnings.warn(\n"
     ]
    },
    {
     "data": {
      "text/plain": [
       "<AxesSubplot:xlabel='ram_miktari', ylabel='count'>"
      ]
     },
     "execution_count": 33,
     "metadata": {},
     "output_type": "execute_result"
    },
    {
     "data": {
      "image/png": "[encoded data removed]",
      "text/plain": [
       "<Figure size 432x288 with 1 Axes>"
      ]
     },
     "metadata": {
      "needs_background": "light"
     },
     "output_type": "display_data"
    }
   ],
   "source": [
    "sns.countplot(df['ram_miktari'],palette='autumn')"
   ]
  },
  {
   "cell_type": "code",
   "execution_count": 34,
   "metadata": {},
   "outputs": [
    {
     "name": "stderr",
     "output_type": "stream",
     "text": [
      "c:\\Users\\cinar\\anaconda3\\lib\\site-packages\\seaborn\\_decorators.py:36: FutureWarning: Pass the following variables as keyword args: x, y. From version 0.12, the only valid positional argument will be `data`, and passing other arguments without an explicit keyword will result in an error or misinterpretation.\n",
      "  warnings.warn(\n"
     ]
    },
    {
     "data": {
      "text/plain": [
       "<AxesSubplot:xlabel='ram_miktari', ylabel='fiyat'>"
      ]
     },
     "execution_count": 34,
     "metadata": {},
     "output_type": "execute_result"
    },
    {
     "data": {
      "image/png": "[encoded data removed]",
      "text/plain": [
       "<Figure size 432x288 with 1 Axes>"
      ]
     },
     "metadata": {
      "needs_background": "light"
     },
     "output_type": "display_data"
    }
   ],
   "source": [
    "sns.barplot(df['ram_miktari'],df['fiyat'])"
   ]
  },
  {
   "cell_type": "code",
   "execution_count": 35,
   "metadata": {},
   "outputs": [
    {
     "name": "stderr",
     "output_type": "stream",
     "text": [
      "c:\\Users\\cinar\\anaconda3\\lib\\site-packages\\seaborn\\_decorators.py:36: FutureWarning: Pass the following variables as keyword args: x, y. From version 0.12, the only valid positional argument will be `data`, and passing other arguments without an explicit keyword will result in an error or misinterpretation.\n",
      "  warnings.warn(\n"
     ]
    },
    {
     "data": {
      "text/plain": [
       "<AxesSubplot:xlabel='gpu_miktari', ylabel='fiyat'>"
      ]
     },
     "execution_count": 35,
     "metadata": {},
     "output_type": "execute_result"
    },
    {
     "data": {
      "image/png": "[encoded data removed]",
      "text/plain": [
       "<Figure size 432x288 with 1 Axes>"
      ]
     },
     "metadata": {
      "needs_background": "light"
     },
     "output_type": "display_data"
    }
   ],
   "source": [
    "sns.barplot(df['gpu_miktari'],df['fiyat'],estimator=np.median)"
   ]
  },
  {
   "cell_type": "code",
   "execution_count": null,
   "metadata": {},
   "outputs": [],
   "source": [
    "sns.barplot(df['isletim_sistemi'],df['fiyat'])\n",
    "plt.xticks(rotation = 'vertical')\n",
    "plt.show()"
   ]
  },
  {
   "cell_type": "code",
   "execution_count": null,
   "metadata": {},
   "outputs": [],
   "source": [
    "# club {Windows 10,Windows 7,Windows 7 S}-->Windows\n",
    "# club {macOS,mac OS X}--> mac\n",
    "# else return Others\n",
    "\n",
    "def setcategory(text):\n",
    "    \n",
    "    if text=='Windows 10' or text=='Windows 7' or text=='Windows 10 S':\n",
    "        return 'Windows'\n",
    "    \n",
    "    elif text=='Mac OS X' or text=='macOS':\n",
    "        return 'Mac'\n",
    "    \n",
    "    else:\n",
    "        return 'Other'\n",
    "    \n",
    "    \n",
    "df['isletim_sistemi'] = df['isletim_sistemi'].apply(lambda x:setcategory(x))\n",
    "\n",
    "df.head()"
   ]
  },
  {
   "cell_type": "code",
   "execution_count": null,
   "metadata": {},
   "outputs": [],
   "source": [
    "sns.countplot(df['isletim_sistemi'],palette='plasma')"
   ]
  },
  {
   "cell_type": "code",
   "execution_count": null,
   "metadata": {},
   "outputs": [],
   "source": []
  },
  {
   "cell_type": "code",
   "execution_count": null,
   "metadata": {},
   "outputs": [],
   "source": []
  },
  {
   "attachments": {},
   "cell_type": "markdown",
   "metadata": {},
   "source": [
    "# Missing Values"
   ]
  },
  {
   "cell_type": "code",
   "execution_count": null,
   "metadata": {},
   "outputs": [],
   "source": [
    "df.isnull().sum()"
   ]
  },
  {
   "attachments": {},
   "cell_type": "markdown",
   "metadata": {},
   "source": [
    "### Bluetooth-renk-isim-optik sürücü"
   ]
  },
  {
   "cell_type": "code",
   "execution_count": null,
   "metadata": {},
   "outputs": [],
   "source": [
    "df.bluetooth.value_counts()\n",
    "df.bluetooth.unique()\n",
    "\n",
    "df.renk.value_counts()\n",
    "df.renk.unique()\n",
    "\n",
    "df.isim.value_counts()\n",
    "df.isim.unique()\n",
    "\n",
    "df.optik_surucu.value_counts()\n",
    "df.optik_surucu.unique()\n",
    "\"\"\"\n",
    "optik surucu 1000 taneden sadece 10unda var yaklaşık olarak,\n",
    "bluetooth tüm cihazlarda oldugu için belirli bi etkisi olmayacaktır.\n",
    "renk ve isim içinde aynı durum geçerli bu yuzden bu 4lüyü dropluyorum\n",
    "\"\"\"\n",
    "set_4=[\"bluetooth\",\"renk\",\"isim\",\"optik_surucu\"]\n",
    "df.drop(set_4,axis=1,inplace=True)\n",
    "df.drop(\"islemci\",axis=1,inplace=True)\n"
   ]
  },
  {
   "cell_type": "code",
   "execution_count": null,
   "metadata": {},
   "outputs": [],
   "source": [
    "df.info()"
   ]
  },
  {
   "attachments": {},
   "cell_type": "markdown",
   "metadata": {},
   "source": [
    "## USB"
   ]
  },
  {
   "cell_type": "code",
   "execution_count": null,
   "metadata": {},
   "outputs": [],
   "source": [
    "df.usb.value_counts()\n",
    "df.usb.unique()\n",
    "df.usb.isnull().sum()\n",
    "df.usb.fillna(\"Var\",inplace=True)\n",
    "df.usb.value_counts()\n",
    "df.usb.isnull().sum()\n",
    "\"\"\" \n",
    "usb si olmayan bilgisayarmı olur ?\n",
    "\"\"\"\n",
    "df.drop(\"usb\",axis=1,inplace=True)"
   ]
  },
  {
   "attachments": {},
   "cell_type": "markdown",
   "metadata": {},
   "source": [
    "## İslemci_cekirdek_sayaısı"
   ]
  },
  {
   "cell_type": "code",
   "execution_count": null,
   "metadata": {},
   "outputs": [],
   "source": [
    "df.islemci_cekirdek_sayisi.value_counts()\n",
    "df.islemci_cekirdek_sayisi.fillna(4.0,inplace=True)\n",
    "df.islemci_cekirdek_sayisi.value_counts()\n",
    "df['islemci_cekirdek_sayisi'] = df['islemci_cekirdek_sayisi'].astype(int)\n",
    "df.islemci_cekirdek_sayisi.isnull().sum()"
   ]
  },
  {
   "attachments": {},
   "cell_type": "markdown",
   "metadata": {},
   "source": [
    "## Ram tipi"
   ]
  },
  {
   "cell_type": "code",
   "execution_count": null,
   "metadata": {},
   "outputs": [],
   "source": [
    "df.ram_tipi.unique()\n",
    "df.ram_tipi.fillna(\"DDR4\",inplace=True)\n",
    "df.ram_tipi.value_counts()\n",
    "df['ram_tipi'] = df['ram_tipi'].apply(lambda x: str(x).replace('DDR3', \"other_ram\"))\n",
    "df['ram_tipi'] = df['ram_tipi'].apply(lambda x: str(x).replace('LPDDR4', \"other_ram\"))\n",
    "df['ram_tipi'] = df['ram_tipi'].apply(lambda x: str(x).replace('LPDDR4X', \"other_ram\"))\n",
    "df['ram_tipi'] = df['ram_tipi'].apply(lambda x: str(x).replace('LPDDR5', \"other_ram\"))\n",
    "df['ram_tipi'] = df['ram_tipi'].apply(lambda x: str(x).replace('other_ramX', \"other_ram\"))\n",
    "df.ram_tipi.value_counts()"
   ]
  },
  {
   "cell_type": "code",
   "execution_count": null,
   "metadata": {},
   "outputs": [],
   "source": [
    "\n",
    "df.info()"
   ]
  },
  {
   "attachments": {},
   "cell_type": "markdown",
   "metadata": {},
   "source": [
    "\"\"\"\n",
    "for column in df.columns:\n",
    "    df[column] = df[column].replace('1 TB',1024)\n",
    "    df[column] = df[column].replace('1 TB + 512',1536)\n",
    "    df[column] = df[column].replace('1 TB + 256',1280)\n",
    "    df[column] = df[column].replace('2 TB',2048)\n",
    "    df[column] = df[column].replace('2 TB + 512',2560)\n",
    "    df[column] = df[column].replace('1 TB + 1 TB',2048)\n",
    "    df[column] = df[column].replace('1 TB + 2 TB',3072)\n",
    "    df[column] = df[column].replace('2 TB + 1 TB',3072)\n",
    "    df[column] = df[column].replace('1 TB + 500',1524)\n",
    "    df[column] = df[column].replace('2 TB + 2 TB',4096)\n",
    "    \"\"\""
   ]
  },
  {
   "attachments": {},
   "cell_type": "markdown",
   "metadata": {},
   "source": [
    "## Gpu model"
   ]
  },
  {
   "cell_type": "code",
   "execution_count": null,
   "metadata": {},
   "outputs": [],
   "source": [
    "df.gpu_model.value_counts()\n",
    "df[\"gpu_model\"]=df.gpu_model.map({\"Paylaþýmsýz\":\"Paylasimsiz\",\"Paylaþýmlý\":\"Paylasimli\"})\n",
    "df.gpu_model.fillna(\"Paylasimli\",inplace=True)\n",
    "df.gpu_model.value_counts()"
   ]
  },
  {
   "attachments": {},
   "cell_type": "markdown",
   "metadata": {},
   "source": [
    "## Ekran cözünürlük"
   ]
  },
  {
   "cell_type": "code",
   "execution_count": null,
   "metadata": {},
   "outputs": [],
   "source": [
    "df.ekran_cozunurluk.unique()\n",
    "df.ekran_cozunurluk.value_counts()\n",
    "df.ekran_cozunurluk.fillna(\"1920 x 1080\",inplace=True)"
   ]
  },
  {
   "cell_type": "code",
   "execution_count": null,
   "metadata": {},
   "outputs": [],
   "source": [
    "df['ekran_cozunurluk'] = df['ekran_cozunurluk'].apply(lambda x: str(x).replace(' 3840 x 2160', \"random_cznrlk\"))\n",
    "df['ekran_cozunurluk'] = df['ekran_cozunurluk'].apply(lambda x: str(x).replace(' 2160 x 1440', \"random_cznrlk\"))\n",
    "df['ekran_cozunurluk'] = df['ekran_cozunurluk'].apply(lambda x: str(x).replace(' 1920 x 1280', \"random_cznrlk\"))\n",
    "df['ekran_cozunurluk'] = df['ekran_cozunurluk'].apply(lambda x: str(x).replace(' 2880 x 1800', \"random_cznrlk\"))\n",
    "df['ekran_cozunurluk'] = df['ekran_cozunurluk'].apply(lambda x: str(x).replace(' 1600 x 900', \"random_cznrlk\"))\n",
    "df['ekran_cozunurluk'] = df['ekran_cozunurluk'].apply(lambda x: str(x).replace(' 3024 x 1964', \"random_cznrlk\"))\n",
    "df['ekran_cozunurluk'] = df['ekran_cozunurluk'].apply(lambda x: str(x).replace(' 2560 x 1600', \"random_cznrlk\"))\n",
    "df['ekran_cozunurluk'] = df['ekran_cozunurluk'].apply(lambda x: str(x).replace('nan', \"random_cznrlk\"))\n",
    "df['ekran_cozunurluk'] = df['ekran_cozunurluk'].apply(lambda x: str(x).replace(' 1920 x 1080', \"1920 x 1080\"))\n",
    "df['ekran_cozunurluk'] = df['ekran_cozunurluk'].apply(lambda x: str(x).replace(' 1366 x 768', \"1366 x 768\"))\n",
    "df['ekran_cozunurluk'] = df['ekran_cozunurluk'].apply(lambda x: str(x).replace(' 1920 x 1200', \"1920 x 1200\"))\n",
    "df['ekran_cozunurluk'] = df['ekran_cozunurluk'].apply(lambda x: str(x).replace(' 2560 x 1440', \"2560 x 1440\"))"
   ]
  },
  {
   "attachments": {},
   "cell_type": "markdown",
   "metadata": {},
   "source": [
    "## İşlemci Hızı"
   ]
  },
  {
   "cell_type": "code",
   "execution_count": null,
   "metadata": {},
   "outputs": [],
   "source": [
    "df.islemci_hizi.value_counts()\n",
    "df.islemci_hizi.fillna(2.80,inplace=True)"
   ]
  },
  {
   "attachments": {},
   "cell_type": "markdown",
   "metadata": {},
   "source": [
    "## Hdmi"
   ]
  },
  {
   "cell_type": "code",
   "execution_count": null,
   "metadata": {},
   "outputs": [],
   "source": [
    "df.hdmi.value_counts()\n",
    "df.hdmi.isnull().sum()\n",
    "df.hdmi.fillna(\"Yok\",inplace=True)"
   ]
  },
  {
   "cell_type": "code",
   "execution_count": null,
   "metadata": {},
   "outputs": [],
   "source": [
    "df.info()"
   ]
  },
  {
   "attachments": {},
   "cell_type": "markdown",
   "metadata": {},
   "source": [
    "## Parmak izi Okuyucu"
   ]
  },
  {
   "cell_type": "code",
   "execution_count": null,
   "metadata": {},
   "outputs": [],
   "source": [
    "df.parmak_izi_okuyucu.value_counts()\n",
    "df.parmak_izi_okuyucu.unique()\n",
    "df.parmak_izi_okuyucu.fillna(\"Yok\",inplace=True)\n",
    "df.parmak_izi_okuyucu.isnull().sum()"
   ]
  },
  {
   "attachments": {},
   "cell_type": "markdown",
   "metadata": {},
   "source": [
    "## Disk Tipi"
   ]
  },
  {
   "cell_type": "code",
   "execution_count": null,
   "metadata": {},
   "outputs": [],
   "source": [
    "df.disk_tipi.value_counts()\n",
    "df['disk_tipi'] = df['disk_tipi'].apply(lambda x: str(x).replace('HDD - SSD', \"HDD-SSD\"))"
   ]
  },
  {
   "attachments": {},
   "cell_type": "markdown",
   "metadata": {},
   "source": [
    "## İsletim Sistemi"
   ]
  },
  {
   "cell_type": "code",
   "execution_count": null,
   "metadata": {},
   "outputs": [],
   "source": [
    "df.isletim_sistemi.value_counts()\n",
    "df['isletim_sistemi'] = df['isletim_sistemi'].apply(lambda x: str(x).replace('Diðer', \"Linux\"))\n",
    "df['isletim_sistemi'] = df['isletim_sistemi'].apply(lambda x: str(x).replace('Windows 7', \"Windows\"))\n",
    "df['isletim_sistemi'] = df['isletim_sistemi'].apply(lambda x: str(x).replace('Windows 10', \"Windows\"))\n",
    "df['isletim_sistemi'] = df['isletim_sistemi'].apply(lambda x: str(x).replace('Windows Pro', \"Windows\"))\n",
    "df['isletim_sistemi'] = df['isletim_sistemi'].apply(lambda x: str(x).replace('Windows Home', \"Windows\"))\n",
    "df['isletim_sistemi'] = df['isletim_sistemi'].apply(lambda x: str(x).replace('Windows 11 Pro', \"Windows\"))\n",
    "df['isletim_sistemi'] = df['isletim_sistemi'].apply(lambda x: str(x).replace('Windows 11 Home', \"Windows\"))\n",
    "df['isletim_sistemi'] = df['isletim_sistemi'].apply(lambda x: str(x).replace('Windows 10 Home', \"Windows\"))\n",
    "df['isletim_sistemi'] = df['isletim_sistemi'].apply(lambda x: str(x).replace('Ubuntu', \"Linux\"))\n",
    "df.isletim_sistemi.unique()"
   ]
  },
  {
   "attachments": {},
   "cell_type": "markdown",
   "metadata": {},
   "source": [
    "## İslemci modeli"
   ]
  },
  {
   "cell_type": "code",
   "execution_count": null,
   "metadata": {},
   "outputs": [],
   "source": [
    "df.drop(\"islemci_modeli\",axis=1,inplace=True)\n",
    "\"\"\"islemcı modelini dropluyorum\"\"\""
   ]
  },
  {
   "attachments": {},
   "cell_type": "markdown",
   "metadata": {},
   "source": [
    "## Disk Kapasitesi"
   ]
  },
  {
   "cell_type": "code",
   "execution_count": null,
   "metadata": {},
   "outputs": [],
   "source": [
    "for column in df.columns:\n",
    "    df[column] = df[column].replace('1 TB',1024)\n",
    "    df[column] = df[column].replace('1 TB + 512',1536)\n",
    "    df[column] = df[column].replace('1 TB + 256',1280)\n",
    "    df[column] = df[column].replace('2 TB',2048)\n",
    "    df[column] = df[column].replace('2 TB + 512',2560)\n",
    "    df[column] = df[column].replace('1 TB + 1 TB',2048)\n",
    "    df[column] = df[column].replace('1 TB + 2 TB',3072)\n",
    "    df[column] = df[column].replace('2 TB + 1 TB',3072)\n",
    "    df[column] = df[column].replace('1 TB + 500',1524)\n",
    "    df[column] = df[column].replace('2 TB + 2 TB',4096)\n",
    "    df[column] = df[column].replace('2 TB + 256',2304)\n",
    "    df[column] = df[column].replace('1 TB + 250',1274)\n",
    "    df[column] = df[column].replace('512  + 32',542)\n",
    "    df[column] = df[column].replace('1 TB + 240',1264)\n",
    "    df[column] = df[column].replace('1 TB + 128',1152)\n",
    "    df[column] = df[column].replace('32',32)\n",
    "    df[column] = df[column].replace('1524',1524)"
   ]
  },
  {
   "cell_type": "code",
   "execution_count": null,
   "metadata": {},
   "outputs": [],
   "source": [
    "df.disk_kapasitesi.value_counts()"
   ]
  },
  {
   "cell_type": "code",
   "execution_count": null,
   "metadata": {},
   "outputs": [],
   "source": [
    "\n",
    "df.info()"
   ]
  },
  {
   "cell_type": "code",
   "execution_count": null,
   "metadata": {},
   "outputs": [],
   "source": [
    "df.head()"
   ]
  },
  {
   "attachments": {},
   "cell_type": "markdown",
   "metadata": {},
   "source": [
    "## Gpu miktarı"
   ]
  },
  {
   "cell_type": "code",
   "execution_count": null,
   "metadata": {},
   "outputs": [],
   "source": [
    "subset=[\"gpu_model\",\"gpu_miktari\",\"fiyat\"]\n",
    "df2=df.loc[:,subset]"
   ]
  },
  {
   "cell_type": "code",
   "execution_count": null,
   "metadata": {},
   "outputs": [],
   "source": [
    "df2.head(10)"
   ]
  },
  {
   "cell_type": "code",
   "execution_count": null,
   "metadata": {},
   "outputs": [],
   "source": [
    "df2.loc[(df.fiyat>20000)]"
   ]
  },
  {
   "cell_type": "code",
   "execution_count": null,
   "metadata": {},
   "outputs": [],
   "source": [
    "df2.loc[(df.fiyat>20000) & (df.gpu_model==\"Paylasimli\")]\n",
    "\n"
   ]
  },
  {
   "cell_type": "code",
   "execution_count": null,
   "metadata": {},
   "outputs": [],
   "source": [
    "df2.loc[(df2.fiyat>20000) & (df2.gpu_model==\"Paylasimli\")]"
   ]
  },
  {
   "cell_type": "code",
   "execution_count": null,
   "metadata": {},
   "outputs": [],
   "source": [
    "df2.loc[(df2.fiyat>20000) & (df2.gpu_model==\"Paylasimsiz\")]"
   ]
  },
  {
   "cell_type": "code",
   "execution_count": null,
   "metadata": {},
   "outputs": [],
   "source": [
    "df.info()"
   ]
  },
  {
   "cell_type": "code",
   "execution_count": null,
   "metadata": {},
   "outputs": [],
   "source": [
    "df.dropna(inplace=True)"
   ]
  },
  {
   "cell_type": "code",
   "execution_count": null,
   "metadata": {},
   "outputs": [],
   "source": [
    "df.isna().sum()"
   ]
  },
  {
   "cell_type": "code",
   "execution_count": null,
   "metadata": {},
   "outputs": [],
   "source": [
    "df.to_csv(\"remastered_last.csv\")"
   ]
  },
  {
   "cell_type": "code",
   "execution_count": null,
   "metadata": {},
   "outputs": [],
   "source": []
  },
  {
   "cell_type": "code",
   "execution_count": null,
   "metadata": {},
   "outputs": [],
   "source": []
  },
  {
   "cell_type": "code",
   "execution_count": null,
   "metadata": {},
   "outputs": [],
   "source": []
  },
  {
   "cell_type": "code",
   "execution_count": null,
   "metadata": {},
   "outputs": [],
   "source": []
  },
  {
   "cell_type": "code",
   "execution_count": null,
   "metadata": {},
   "outputs": [],
   "source": []
  },
  {
   "cell_type": "code",
   "execution_count": null,
   "metadata": {},
   "outputs": [],
   "source": []
  },
  {
   "cell_type": "code",
   "execution_count": null,
   "metadata": {},
   "outputs": [],
   "source": []
  },
  {
   "cell_type": "code",
   "execution_count": null,
   "metadata": {},
   "outputs": [],
   "source": []
  },
  {
   "cell_type": "code",
   "execution_count": null,
   "metadata": {},
   "outputs": [],
   "source": []
  },
  {
   "cell_type": "code",
   "execution_count": null,
   "metadata": {},
   "outputs": [],
   "source": []
  },
  {
   "cell_type": "code",
   "execution_count": null,
   "metadata": {},
   "outputs": [],
   "source": []
  },
  {
   "cell_type": "code",
   "execution_count": null,
   "metadata": {},
   "outputs": [],
   "source": []
  }
 ],
 "metadata": {
  "kernelspec": {
   "display_name": "base",
   "language": "python",
   "name": "python3"
  },
  "language_info": {
   "codemirror_mode": {
    "name": "ipython",
    "version": 3
   },
   "file_extension": ".py",
   "mimetype": "text/x-python",
   "name": "python",
   "nbconvert_exporter": "python",
   "pygments_lexer": "ipython3",
   "version": "3.9.12"
  },
  "orig_nbformat": 4,
  "vscode": {
   "interpreter": {
    "hash": "41c1d256a67d204e54e5a13f9b552a8aae3a3f968efe1087469fde8a88649bd5"
   }
  }
 },
 "nbformat": 4,
 "nbformat_minor": 2
}
